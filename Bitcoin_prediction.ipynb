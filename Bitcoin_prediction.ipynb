{
  "nbformat": 4,
  "nbformat_minor": 0,
  "metadata": {
    "colab": {
      "name": "Bitcoin prediction.ipynb",
      "provenance": [],
      "collapsed_sections": [],
      "authorship_tag": "ABX9TyNGKhx6aDaq2VOTZzgfOOP9",
      "include_colab_link": true
    },
    "kernelspec": {
      "name": "python3",
      "display_name": "Python 3"
    }
  },
  "cells": [
    {
      "cell_type": "markdown",
      "metadata": {
        "id": "view-in-github",
        "colab_type": "text"
      },
      "source": [
        "<a href=\"https://colab.research.google.com/github/oghenerosiloko/Predictions-with-Colab/blob/main/Bitcoin_prediction.ipynb\" target=\"_parent\"><img src=\"https://colab.research.google.com/assets/colab-badge.svg\" alt=\"Open In Colab\"/></a>"
      ]
    },
    {
      "cell_type": "code",
      "metadata": {
        "id": "AePjRB7Mnb9t"
      },
      "source": [
        "import pandas as pd\n",
        "import numpy as np"
      ],
      "execution_count": 10,
      "outputs": []
    },
    {
      "cell_type": "code",
      "metadata": {
        "colab": {
          "resources": {
            "http://localhost:8080/nbextensions/google.colab/files.js": {
              "data": "Ly8gQ29weXJpZ2h0IDIwMTcgR29vZ2xlIExMQwovLwovLyBMaWNlbnNlZCB1bmRlciB0aGUgQXBhY2hlIExpY2Vuc2UsIFZlcnNpb24gMi4wICh0aGUgIkxpY2Vuc2UiKTsKLy8geW91IG1heSBub3QgdXNlIHRoaXMgZmlsZSBleGNlcHQgaW4gY29tcGxpYW5jZSB3aXRoIHRoZSBMaWNlbnNlLgovLyBZb3UgbWF5IG9idGFpbiBhIGNvcHkgb2YgdGhlIExpY2Vuc2UgYXQKLy8KLy8gICAgICBodHRwOi8vd3d3LmFwYWNoZS5vcmcvbGljZW5zZXMvTElDRU5TRS0yLjAKLy8KLy8gVW5sZXNzIHJlcXVpcmVkIGJ5IGFwcGxpY2FibGUgbGF3IG9yIGFncmVlZCB0byBpbiB3cml0aW5nLCBzb2Z0d2FyZQovLyBkaXN0cmlidXRlZCB1bmRlciB0aGUgTGljZW5zZSBpcyBkaXN0cmlidXRlZCBvbiBhbiAiQVMgSVMiIEJBU0lTLAovLyBXSVRIT1VUIFdBUlJBTlRJRVMgT1IgQ09ORElUSU9OUyBPRiBBTlkgS0lORCwgZWl0aGVyIGV4cHJlc3Mgb3IgaW1wbGllZC4KLy8gU2VlIHRoZSBMaWNlbnNlIGZvciB0aGUgc3BlY2lmaWMgbGFuZ3VhZ2UgZ292ZXJuaW5nIHBlcm1pc3Npb25zIGFuZAovLyBsaW1pdGF0aW9ucyB1bmRlciB0aGUgTGljZW5zZS4KCi8qKgogKiBAZmlsZW92ZXJ2aWV3IEhlbHBlcnMgZm9yIGdvb2dsZS5jb2xhYiBQeXRob24gbW9kdWxlLgogKi8KKGZ1bmN0aW9uKHNjb3BlKSB7CmZ1bmN0aW9uIHNwYW4odGV4dCwgc3R5bGVBdHRyaWJ1dGVzID0ge30pIHsKICBjb25zdCBlbGVtZW50ID0gZG9jdW1lbnQuY3JlYXRlRWxlbWVudCgnc3BhbicpOwogIGVsZW1lbnQudGV4dENvbnRlbnQgPSB0ZXh0OwogIGZvciAoY29uc3Qga2V5IG9mIE9iamVjdC5rZXlzKHN0eWxlQXR0cmlidXRlcykpIHsKICAgIGVsZW1lbnQuc3R5bGVba2V5XSA9IHN0eWxlQXR0cmlidXRlc1trZXldOwogIH0KICByZXR1cm4gZWxlbWVudDsKfQoKLy8gTWF4IG51bWJlciBvZiBieXRlcyB3aGljaCB3aWxsIGJlIHVwbG9hZGVkIGF0IGEgdGltZS4KY29uc3QgTUFYX1BBWUxPQURfU0laRSA9IDEwMCAqIDEwMjQ7CgpmdW5jdGlvbiBfdXBsb2FkRmlsZXMoaW5wdXRJZCwgb3V0cHV0SWQpIHsKICBjb25zdCBzdGVwcyA9IHVwbG9hZEZpbGVzU3RlcChpbnB1dElkLCBvdXRwdXRJZCk7CiAgY29uc3Qgb3V0cHV0RWxlbWVudCA9IGRvY3VtZW50LmdldEVsZW1lbnRCeUlkKG91dHB1dElkKTsKICAvLyBDYWNoZSBzdGVwcyBvbiB0aGUgb3V0cHV0RWxlbWVudCB0byBtYWtlIGl0IGF2YWlsYWJsZSBmb3IgdGhlIG5leHQgY2FsbAogIC8vIHRvIHVwbG9hZEZpbGVzQ29udGludWUgZnJvbSBQeXRob24uCiAgb3V0cHV0RWxlbWVudC5zdGVwcyA9IHN0ZXBzOwoKICByZXR1cm4gX3VwbG9hZEZpbGVzQ29udGludWUob3V0cHV0SWQpOwp9CgovLyBUaGlzIGlzIHJvdWdobHkgYW4gYXN5bmMgZ2VuZXJhdG9yIChub3Qgc3VwcG9ydGVkIGluIHRoZSBicm93c2VyIHlldCksCi8vIHdoZXJlIHRoZXJlIGFyZSBtdWx0aXBsZSBhc3luY2hyb25vdXMgc3RlcHMgYW5kIHRoZSBQeXRob24gc2lkZSBpcyBnb2luZwovLyB0byBwb2xsIGZvciBjb21wbGV0aW9uIG9mIGVhY2ggc3RlcC4KLy8gVGhpcyB1c2VzIGEgUHJvbWlzZSB0byBibG9jayB0aGUgcHl0aG9uIHNpZGUgb24gY29tcGxldGlvbiBvZiBlYWNoIHN0ZXAsCi8vIHRoZW4gcGFzc2VzIHRoZSByZXN1bHQgb2YgdGhlIHByZXZpb3VzIHN0ZXAgYXMgdGhlIGlucHV0IHRvIHRoZSBuZXh0IHN0ZXAuCmZ1bmN0aW9uIF91cGxvYWRGaWxlc0NvbnRpbnVlKG91dHB1dElkKSB7CiAgY29uc3Qgb3V0cHV0RWxlbWVudCA9IGRvY3VtZW50LmdldEVsZW1lbnRCeUlkKG91dHB1dElkKTsKICBjb25zdCBzdGVwcyA9IG91dHB1dEVsZW1lbnQuc3RlcHM7CgogIGNvbnN0IG5leHQgPSBzdGVwcy5uZXh0KG91dHB1dEVsZW1lbnQubGFzdFByb21pc2VWYWx1ZSk7CiAgcmV0dXJuIFByb21pc2UucmVzb2x2ZShuZXh0LnZhbHVlLnByb21pc2UpLnRoZW4oKHZhbHVlKSA9PiB7CiAgICAvLyBDYWNoZSB0aGUgbGFzdCBwcm9taXNlIHZhbHVlIHRvIG1ha2UgaXQgYXZhaWxhYmxlIHRvIHRoZSBuZXh0CiAgICAvLyBzdGVwIG9mIHRoZSBnZW5lcmF0b3IuCiAgICBvdXRwdXRFbGVtZW50Lmxhc3RQcm9taXNlVmFsdWUgPSB2YWx1ZTsKICAgIHJldHVybiBuZXh0LnZhbHVlLnJlc3BvbnNlOwogIH0pOwp9CgovKioKICogR2VuZXJhdG9yIGZ1bmN0aW9uIHdoaWNoIGlzIGNhbGxlZCBiZXR3ZWVuIGVhY2ggYXN5bmMgc3RlcCBvZiB0aGUgdXBsb2FkCiAqIHByb2Nlc3MuCiAqIEBwYXJhbSB7c3RyaW5nfSBpbnB1dElkIEVsZW1lbnQgSUQgb2YgdGhlIGlucHV0IGZpbGUgcGlja2VyIGVsZW1lbnQuCiAqIEBwYXJhbSB7c3RyaW5nfSBvdXRwdXRJZCBFbGVtZW50IElEIG9mIHRoZSBvdXRwdXQgZGlzcGxheS4KICogQHJldHVybiB7IUl0ZXJhYmxlPCFPYmplY3Q+fSBJdGVyYWJsZSBvZiBuZXh0IHN0ZXBzLgogKi8KZnVuY3Rpb24qIHVwbG9hZEZpbGVzU3RlcChpbnB1dElkLCBvdXRwdXRJZCkgewogIGNvbnN0IGlucHV0RWxlbWVudCA9IGRvY3VtZW50LmdldEVsZW1lbnRCeUlkKGlucHV0SWQpOwogIGlucHV0RWxlbWVudC5kaXNhYmxlZCA9IGZhbHNlOwoKICBjb25zdCBvdXRwdXRFbGVtZW50ID0gZG9jdW1lbnQuZ2V0RWxlbWVudEJ5SWQob3V0cHV0SWQpOwogIG91dHB1dEVsZW1lbnQuaW5uZXJIVE1MID0gJyc7CgogIGNvbnN0IHBpY2tlZFByb21pc2UgPSBuZXcgUHJvbWlzZSgocmVzb2x2ZSkgPT4gewogICAgaW5wdXRFbGVtZW50LmFkZEV2ZW50TGlzdGVuZXIoJ2NoYW5nZScsIChlKSA9PiB7CiAgICAgIHJlc29sdmUoZS50YXJnZXQuZmlsZXMpOwogICAgfSk7CiAgfSk7CgogIGNvbnN0IGNhbmNlbCA9IGRvY3VtZW50LmNyZWF0ZUVsZW1lbnQoJ2J1dHRvbicpOwogIGlucHV0RWxlbWVudC5wYXJlbnRFbGVtZW50LmFwcGVuZENoaWxkKGNhbmNlbCk7CiAgY2FuY2VsLnRleHRDb250ZW50ID0gJ0NhbmNlbCB1cGxvYWQnOwogIGNvbnN0IGNhbmNlbFByb21pc2UgPSBuZXcgUHJvbWlzZSgocmVzb2x2ZSkgPT4gewogICAgY2FuY2VsLm9uY2xpY2sgPSAoKSA9PiB7CiAgICAgIHJlc29sdmUobnVsbCk7CiAgICB9OwogIH0pOwoKICAvLyBXYWl0IGZvciB0aGUgdXNlciB0byBwaWNrIHRoZSBmaWxlcy4KICBjb25zdCBmaWxlcyA9IHlpZWxkIHsKICAgIHByb21pc2U6IFByb21pc2UucmFjZShbcGlja2VkUHJvbWlzZSwgY2FuY2VsUHJvbWlzZV0pLAogICAgcmVzcG9uc2U6IHsKICAgICAgYWN0aW9uOiAnc3RhcnRpbmcnLAogICAgfQogIH07CgogIGNhbmNlbC5yZW1vdmUoKTsKCiAgLy8gRGlzYWJsZSB0aGUgaW5wdXQgZWxlbWVudCBzaW5jZSBmdXJ0aGVyIHBpY2tzIGFyZSBub3QgYWxsb3dlZC4KICBpbnB1dEVsZW1lbnQuZGlzYWJsZWQgPSB0cnVlOwoKICBpZiAoIWZpbGVzKSB7CiAgICByZXR1cm4gewogICAgICByZXNwb25zZTogewogICAgICAgIGFjdGlvbjogJ2NvbXBsZXRlJywKICAgICAgfQogICAgfTsKICB9CgogIGZvciAoY29uc3QgZmlsZSBvZiBmaWxlcykgewogICAgY29uc3QgbGkgPSBkb2N1bWVudC5jcmVhdGVFbGVtZW50KCdsaScpOwogICAgbGkuYXBwZW5kKHNwYW4oZmlsZS5uYW1lLCB7Zm9udFdlaWdodDogJ2JvbGQnfSkpOwogICAgbGkuYXBwZW5kKHNwYW4oCiAgICAgICAgYCgke2ZpbGUudHlwZSB8fCAnbi9hJ30pIC0gJHtmaWxlLnNpemV9IGJ5dGVzLCBgICsKICAgICAgICBgbGFzdCBtb2RpZmllZDogJHsKICAgICAgICAgICAgZmlsZS5sYXN0TW9kaWZpZWREYXRlID8gZmlsZS5sYXN0TW9kaWZpZWREYXRlLnRvTG9jYWxlRGF0ZVN0cmluZygpIDoKICAgICAgICAgICAgICAgICAgICAgICAgICAgICAgICAgICAgJ24vYSd9IC0gYCkpOwogICAgY29uc3QgcGVyY2VudCA9IHNwYW4oJzAlIGRvbmUnKTsKICAgIGxpLmFwcGVuZENoaWxkKHBlcmNlbnQpOwoKICAgIG91dHB1dEVsZW1lbnQuYXBwZW5kQ2hpbGQobGkpOwoKICAgIGNvbnN0IGZpbGVEYXRhUHJvbWlzZSA9IG5ldyBQcm9taXNlKChyZXNvbHZlKSA9PiB7CiAgICAgIGNvbnN0IHJlYWRlciA9IG5ldyBGaWxlUmVhZGVyKCk7CiAgICAgIHJlYWRlci5vbmxvYWQgPSAoZSkgPT4gewogICAgICAgIHJlc29sdmUoZS50YXJnZXQucmVzdWx0KTsKICAgICAgfTsKICAgICAgcmVhZGVyLnJlYWRBc0FycmF5QnVmZmVyKGZpbGUpOwogICAgfSk7CiAgICAvLyBXYWl0IGZvciB0aGUgZGF0YSB0byBiZSByZWFkeS4KICAgIGxldCBmaWxlRGF0YSA9IHlpZWxkIHsKICAgICAgcHJvbWlzZTogZmlsZURhdGFQcm9taXNlLAogICAgICByZXNwb25zZTogewogICAgICAgIGFjdGlvbjogJ2NvbnRpbnVlJywKICAgICAgfQogICAgfTsKCiAgICAvLyBVc2UgYSBjaHVua2VkIHNlbmRpbmcgdG8gYXZvaWQgbWVzc2FnZSBzaXplIGxpbWl0cy4gU2VlIGIvNjIxMTU2NjAuCiAgICBsZXQgcG9zaXRpb24gPSAwOwogICAgd2hpbGUgKHBvc2l0aW9uIDwgZmlsZURhdGEuYnl0ZUxlbmd0aCkgewogICAgICBjb25zdCBsZW5ndGggPSBNYXRoLm1pbihmaWxlRGF0YS5ieXRlTGVuZ3RoIC0gcG9zaXRpb24sIE1BWF9QQVlMT0FEX1NJWkUpOwogICAgICBjb25zdCBjaHVuayA9IG5ldyBVaW50OEFycmF5KGZpbGVEYXRhLCBwb3NpdGlvbiwgbGVuZ3RoKTsKICAgICAgcG9zaXRpb24gKz0gbGVuZ3RoOwoKICAgICAgY29uc3QgYmFzZTY0ID0gYnRvYShTdHJpbmcuZnJvbUNoYXJDb2RlLmFwcGx5KG51bGwsIGNodW5rKSk7CiAgICAgIHlpZWxkIHsKICAgICAgICByZXNwb25zZTogewogICAgICAgICAgYWN0aW9uOiAnYXBwZW5kJywKICAgICAgICAgIGZpbGU6IGZpbGUubmFtZSwKICAgICAgICAgIGRhdGE6IGJhc2U2NCwKICAgICAgICB9LAogICAgICB9OwogICAgICBwZXJjZW50LnRleHRDb250ZW50ID0KICAgICAgICAgIGAke01hdGgucm91bmQoKHBvc2l0aW9uIC8gZmlsZURhdGEuYnl0ZUxlbmd0aCkgKiAxMDApfSUgZG9uZWA7CiAgICB9CiAgfQoKICAvLyBBbGwgZG9uZS4KICB5aWVsZCB7CiAgICByZXNwb25zZTogewogICAgICBhY3Rpb246ICdjb21wbGV0ZScsCiAgICB9CiAgfTsKfQoKc2NvcGUuZ29vZ2xlID0gc2NvcGUuZ29vZ2xlIHx8IHt9OwpzY29wZS5nb29nbGUuY29sYWIgPSBzY29wZS5nb29nbGUuY29sYWIgfHwge307CnNjb3BlLmdvb2dsZS5jb2xhYi5fZmlsZXMgPSB7CiAgX3VwbG9hZEZpbGVzLAogIF91cGxvYWRGaWxlc0NvbnRpbnVlLAp9Owp9KShzZWxmKTsK",
              "ok": true,
              "headers": [
                [
                  "content-type",
                  "application/javascript"
                ]
              ],
              "status": 200,
              "status_text": ""
            }
          },
          "base_uri": "https://localhost:8080/",
          "height": 70
        },
        "id": "-DFBiFNXo1ee",
        "outputId": "82e61cff-44e1-4f1c-a94a-4132938b19ba"
      },
      "source": [
        "from google.colab import files\n",
        "uploaded = files.upload()"
      ],
      "execution_count": 19,
      "outputs": [
        {
          "output_type": "display_data",
          "data": {
            "text/html": [
              "\n",
              "     <input type=\"file\" id=\"files-84fc574c-31e3-4a33-b3b5-ffcd1c5d4527\" name=\"files[]\" multiple disabled\n",
              "        style=\"border:none\" />\n",
              "     <output id=\"result-84fc574c-31e3-4a33-b3b5-ffcd1c5d4527\">\n",
              "      Upload widget is only available when the cell has been executed in the\n",
              "      current browser session. Please rerun this cell to enable.\n",
              "      </output>\n",
              "      <script src=\"/nbextensions/google.colab/files.js\"></script> "
            ],
            "text/plain": [
              "<IPython.core.display.HTML object>"
            ]
          },
          "metadata": {
            "tags": []
          }
        },
        {
          "output_type": "stream",
          "text": [
            "Saving BTC-USD.csv to BTC-USD.csv\n"
          ],
          "name": "stdout"
        }
      ]
    },
    {
      "cell_type": "code",
      "metadata": {
        "id": "8naWiAIipLHo"
      },
      "source": [
        "bitcoin=pd.read_csv(\"BTC-USD.csv\")"
      ],
      "execution_count": 20,
      "outputs": []
    },
    {
      "cell_type": "code",
      "metadata": {
        "colab": {
          "base_uri": "https://localhost:8080/",
          "height": 335
        },
        "id": "UN_TqunBpfdP",
        "outputId": "0febe734-8c97-4dbc-8a6b-88b881a12539"
      },
      "source": [
        "bitcoin.head(10)"
      ],
      "execution_count": 21,
      "outputs": [
        {
          "output_type": "execute_result",
          "data": {
            "text/html": [
              "<div>\n",
              "<style scoped>\n",
              "    .dataframe tbody tr th:only-of-type {\n",
              "        vertical-align: middle;\n",
              "    }\n",
              "\n",
              "    .dataframe tbody tr th {\n",
              "        vertical-align: top;\n",
              "    }\n",
              "\n",
              "    .dataframe thead th {\n",
              "        text-align: right;\n",
              "    }\n",
              "</style>\n",
              "<table border=\"1\" class=\"dataframe\">\n",
              "  <thead>\n",
              "    <tr style=\"text-align: right;\">\n",
              "      <th></th>\n",
              "      <th>Date</th>\n",
              "      <th>Open</th>\n",
              "      <th>High</th>\n",
              "      <th>Low</th>\n",
              "      <th>Close</th>\n",
              "      <th>Adj Close</th>\n",
              "      <th>Volume</th>\n",
              "    </tr>\n",
              "  </thead>\n",
              "  <tbody>\n",
              "    <tr>\n",
              "      <th>0</th>\n",
              "      <td>2016-01-01</td>\n",
              "      <td>430.721008</td>\n",
              "      <td>436.246002</td>\n",
              "      <td>427.515015</td>\n",
              "      <td>434.334015</td>\n",
              "      <td>434.334015</td>\n",
              "      <td>36278900</td>\n",
              "    </tr>\n",
              "    <tr>\n",
              "      <th>1</th>\n",
              "      <td>2016-01-02</td>\n",
              "      <td>434.622009</td>\n",
              "      <td>436.062012</td>\n",
              "      <td>431.869995</td>\n",
              "      <td>433.437988</td>\n",
              "      <td>433.437988</td>\n",
              "      <td>30096600</td>\n",
              "    </tr>\n",
              "    <tr>\n",
              "      <th>2</th>\n",
              "      <td>2016-01-03</td>\n",
              "      <td>433.578003</td>\n",
              "      <td>433.743011</td>\n",
              "      <td>424.705994</td>\n",
              "      <td>430.010986</td>\n",
              "      <td>430.010986</td>\n",
              "      <td>39633800</td>\n",
              "    </tr>\n",
              "    <tr>\n",
              "      <th>3</th>\n",
              "      <td>2016-01-04</td>\n",
              "      <td>430.061005</td>\n",
              "      <td>434.516998</td>\n",
              "      <td>429.084015</td>\n",
              "      <td>433.091003</td>\n",
              "      <td>433.091003</td>\n",
              "      <td>38477500</td>\n",
              "    </tr>\n",
              "    <tr>\n",
              "      <th>4</th>\n",
              "      <td>2016-01-05</td>\n",
              "      <td>433.069000</td>\n",
              "      <td>434.182007</td>\n",
              "      <td>429.675995</td>\n",
              "      <td>431.959991</td>\n",
              "      <td>431.959991</td>\n",
              "      <td>34522600</td>\n",
              "    </tr>\n",
              "    <tr>\n",
              "      <th>5</th>\n",
              "      <td>2016-01-06</td>\n",
              "      <td>431.855988</td>\n",
              "      <td>431.855988</td>\n",
              "      <td>426.341003</td>\n",
              "      <td>429.105011</td>\n",
              "      <td>429.105011</td>\n",
              "      <td>34042500</td>\n",
              "    </tr>\n",
              "    <tr>\n",
              "      <th>6</th>\n",
              "      <td>2016-01-07</td>\n",
              "      <td>430.010986</td>\n",
              "      <td>458.765991</td>\n",
              "      <td>429.076996</td>\n",
              "      <td>458.048004</td>\n",
              "      <td>458.048004</td>\n",
              "      <td>87562200</td>\n",
              "    </tr>\n",
              "    <tr>\n",
              "      <th>7</th>\n",
              "      <td>2016-01-08</td>\n",
              "      <td>457.537994</td>\n",
              "      <td>462.933990</td>\n",
              "      <td>447.937988</td>\n",
              "      <td>453.230011</td>\n",
              "      <td>453.230011</td>\n",
              "      <td>56993000</td>\n",
              "    </tr>\n",
              "    <tr>\n",
              "      <th>8</th>\n",
              "      <td>2016-01-09</td>\n",
              "      <td>453.382996</td>\n",
              "      <td>454.640015</td>\n",
              "      <td>446.889008</td>\n",
              "      <td>447.610992</td>\n",
              "      <td>447.610992</td>\n",
              "      <td>32278000</td>\n",
              "    </tr>\n",
              "    <tr>\n",
              "      <th>9</th>\n",
              "      <td>2016-01-10</td>\n",
              "      <td>448.238007</td>\n",
              "      <td>448.308990</td>\n",
              "      <td>440.351013</td>\n",
              "      <td>447.990997</td>\n",
              "      <td>447.990997</td>\n",
              "      <td>35995900</td>\n",
              "    </tr>\n",
              "  </tbody>\n",
              "</table>\n",
              "</div>"
            ],
            "text/plain": [
              "         Date        Open        High  ...       Close   Adj Close    Volume\n",
              "0  2016-01-01  430.721008  436.246002  ...  434.334015  434.334015  36278900\n",
              "1  2016-01-02  434.622009  436.062012  ...  433.437988  433.437988  30096600\n",
              "2  2016-01-03  433.578003  433.743011  ...  430.010986  430.010986  39633800\n",
              "3  2016-01-04  430.061005  434.516998  ...  433.091003  433.091003  38477500\n",
              "4  2016-01-05  433.069000  434.182007  ...  431.959991  431.959991  34522600\n",
              "5  2016-01-06  431.855988  431.855988  ...  429.105011  429.105011  34042500\n",
              "6  2016-01-07  430.010986  458.765991  ...  458.048004  458.048004  87562200\n",
              "7  2016-01-08  457.537994  462.933990  ...  453.230011  453.230011  56993000\n",
              "8  2016-01-09  453.382996  454.640015  ...  447.610992  447.610992  32278000\n",
              "9  2016-01-10  448.238007  448.308990  ...  447.990997  447.990997  35995900\n",
              "\n",
              "[10 rows x 7 columns]"
            ]
          },
          "metadata": {
            "tags": []
          },
          "execution_count": 21
        }
      ]
    },
    {
      "cell_type": "code",
      "metadata": {
        "colab": {
          "base_uri": "https://localhost:8080/",
          "height": 335
        },
        "id": "vfH3sKfBp1Tm",
        "outputId": "8142463e-833e-4a83-f378-d501ddedf812"
      },
      "source": [
        "bitcoin.tail(10)"
      ],
      "execution_count": 22,
      "outputs": [
        {
          "output_type": "execute_result",
          "data": {
            "text/html": [
              "<div>\n",
              "<style scoped>\n",
              "    .dataframe tbody tr th:only-of-type {\n",
              "        vertical-align: middle;\n",
              "    }\n",
              "\n",
              "    .dataframe tbody tr th {\n",
              "        vertical-align: top;\n",
              "    }\n",
              "\n",
              "    .dataframe thead th {\n",
              "        text-align: right;\n",
              "    }\n",
              "</style>\n",
              "<table border=\"1\" class=\"dataframe\">\n",
              "  <thead>\n",
              "    <tr style=\"text-align: right;\">\n",
              "      <th></th>\n",
              "      <th>Date</th>\n",
              "      <th>Open</th>\n",
              "      <th>High</th>\n",
              "      <th>Low</th>\n",
              "      <th>Close</th>\n",
              "      <th>Adj Close</th>\n",
              "      <th>Volume</th>\n",
              "    </tr>\n",
              "  </thead>\n",
              "  <tbody>\n",
              "    <tr>\n",
              "      <th>1787</th>\n",
              "      <td>2020-11-22</td>\n",
              "      <td>18642.232422</td>\n",
              "      <td>18688.968750</td>\n",
              "      <td>17671.384766</td>\n",
              "      <td>18370.001953</td>\n",
              "      <td>18370.001953</td>\n",
              "      <td>41280434225</td>\n",
              "    </tr>\n",
              "    <tr>\n",
              "      <th>1788</th>\n",
              "      <td>2020-11-23</td>\n",
              "      <td>18370.017578</td>\n",
              "      <td>18711.425781</td>\n",
              "      <td>18000.796875</td>\n",
              "      <td>18364.121094</td>\n",
              "      <td>18364.121094</td>\n",
              "      <td>42741112307</td>\n",
              "    </tr>\n",
              "    <tr>\n",
              "      <th>1789</th>\n",
              "      <td>2020-11-24</td>\n",
              "      <td>18365.015625</td>\n",
              "      <td>19348.271484</td>\n",
              "      <td>18128.656250</td>\n",
              "      <td>19107.464844</td>\n",
              "      <td>19107.464844</td>\n",
              "      <td>51469565008</td>\n",
              "    </tr>\n",
              "    <tr>\n",
              "      <th>1790</th>\n",
              "      <td>2020-11-25</td>\n",
              "      <td>19104.410156</td>\n",
              "      <td>19390.964844</td>\n",
              "      <td>18581.146484</td>\n",
              "      <td>18732.121094</td>\n",
              "      <td>18732.121094</td>\n",
              "      <td>43710357371</td>\n",
              "    </tr>\n",
              "    <tr>\n",
              "      <th>1791</th>\n",
              "      <td>2020-11-26</td>\n",
              "      <td>18729.839844</td>\n",
              "      <td>18866.285156</td>\n",
              "      <td>16351.035156</td>\n",
              "      <td>17150.623047</td>\n",
              "      <td>17150.623047</td>\n",
              "      <td>61396835736</td>\n",
              "    </tr>\n",
              "    <tr>\n",
              "      <th>1792</th>\n",
              "      <td>2020-11-27</td>\n",
              "      <td>17153.914063</td>\n",
              "      <td>17445.023438</td>\n",
              "      <td>16526.423828</td>\n",
              "      <td>17108.402344</td>\n",
              "      <td>17108.402344</td>\n",
              "      <td>38886494645</td>\n",
              "    </tr>\n",
              "    <tr>\n",
              "      <th>1793</th>\n",
              "      <td>2020-11-28</td>\n",
              "      <td>17112.933594</td>\n",
              "      <td>17853.939453</td>\n",
              "      <td>16910.652344</td>\n",
              "      <td>17717.414063</td>\n",
              "      <td>17717.414063</td>\n",
              "      <td>32601040733</td>\n",
              "    </tr>\n",
              "    <tr>\n",
              "      <th>1794</th>\n",
              "      <td>2020-11-29</td>\n",
              "      <td>17719.634766</td>\n",
              "      <td>18283.628906</td>\n",
              "      <td>17559.117188</td>\n",
              "      <td>18177.484375</td>\n",
              "      <td>18177.484375</td>\n",
              "      <td>31133957704</td>\n",
              "    </tr>\n",
              "    <tr>\n",
              "      <th>1795</th>\n",
              "      <td>2020-11-30</td>\n",
              "      <td>18178.322266</td>\n",
              "      <td>19749.263672</td>\n",
              "      <td>18178.322266</td>\n",
              "      <td>19625.835938</td>\n",
              "      <td>19625.835938</td>\n",
              "      <td>47728480399</td>\n",
              "    </tr>\n",
              "    <tr>\n",
              "      <th>1796</th>\n",
              "      <td>2020-12-01</td>\n",
              "      <td>19564.548828</td>\n",
              "      <td>19661.439453</td>\n",
              "      <td>19323.210938</td>\n",
              "      <td>19371.498047</td>\n",
              "      <td>19371.498047</td>\n",
              "      <td>48122556416</td>\n",
              "    </tr>\n",
              "  </tbody>\n",
              "</table>\n",
              "</div>"
            ],
            "text/plain": [
              "            Date          Open  ...     Adj Close       Volume\n",
              "1787  2020-11-22  18642.232422  ...  18370.001953  41280434225\n",
              "1788  2020-11-23  18370.017578  ...  18364.121094  42741112307\n",
              "1789  2020-11-24  18365.015625  ...  19107.464844  51469565008\n",
              "1790  2020-11-25  19104.410156  ...  18732.121094  43710357371\n",
              "1791  2020-11-26  18729.839844  ...  17150.623047  61396835736\n",
              "1792  2020-11-27  17153.914063  ...  17108.402344  38886494645\n",
              "1793  2020-11-28  17112.933594  ...  17717.414063  32601040733\n",
              "1794  2020-11-29  17719.634766  ...  18177.484375  31133957704\n",
              "1795  2020-11-30  18178.322266  ...  19625.835938  47728480399\n",
              "1796  2020-12-01  19564.548828  ...  19371.498047  48122556416\n",
              "\n",
              "[10 rows x 7 columns]"
            ]
          },
          "metadata": {
            "tags": []
          },
          "execution_count": 22
        }
      ]
    },
    {
      "cell_type": "code",
      "metadata": {
        "colab": {
          "base_uri": "https://localhost:8080/"
        },
        "id": "5QVbI39sqLue",
        "outputId": "4883df4a-835d-4fa5-f458-75942889d9b0"
      },
      "source": [
        "bitcoin.columns"
      ],
      "execution_count": 23,
      "outputs": [
        {
          "output_type": "execute_result",
          "data": {
            "text/plain": [
              "Index(['Date', 'Open', 'High', 'Low', 'Close', 'Adj Close', 'Volume'], dtype='object')"
            ]
          },
          "metadata": {
            "tags": []
          },
          "execution_count": 23
        }
      ]
    },
    {
      "cell_type": "code",
      "metadata": {
        "id": "cOhy0_iPsVnW"
      },
      "source": [
        "bitcoin.drop(['Date', 'Open', 'High', 'Low', 'Adj Close', 'Volume'], 1, inplace=True)"
      ],
      "execution_count": 24,
      "outputs": []
    },
    {
      "cell_type": "code",
      "metadata": {
        "colab": {
          "base_uri": "https://localhost:8080/",
          "height": 335
        },
        "id": "W6zAHBsvs1zY",
        "outputId": "71679196-ec15-46ab-8f49-e8dec440afc6"
      },
      "source": [
        "bitcoin.head(10)\n"
      ],
      "execution_count": 25,
      "outputs": [
        {
          "output_type": "execute_result",
          "data": {
            "text/html": [
              "<div>\n",
              "<style scoped>\n",
              "    .dataframe tbody tr th:only-of-type {\n",
              "        vertical-align: middle;\n",
              "    }\n",
              "\n",
              "    .dataframe tbody tr th {\n",
              "        vertical-align: top;\n",
              "    }\n",
              "\n",
              "    .dataframe thead th {\n",
              "        text-align: right;\n",
              "    }\n",
              "</style>\n",
              "<table border=\"1\" class=\"dataframe\">\n",
              "  <thead>\n",
              "    <tr style=\"text-align: right;\">\n",
              "      <th></th>\n",
              "      <th>Close</th>\n",
              "    </tr>\n",
              "  </thead>\n",
              "  <tbody>\n",
              "    <tr>\n",
              "      <th>0</th>\n",
              "      <td>434.334015</td>\n",
              "    </tr>\n",
              "    <tr>\n",
              "      <th>1</th>\n",
              "      <td>433.437988</td>\n",
              "    </tr>\n",
              "    <tr>\n",
              "      <th>2</th>\n",
              "      <td>430.010986</td>\n",
              "    </tr>\n",
              "    <tr>\n",
              "      <th>3</th>\n",
              "      <td>433.091003</td>\n",
              "    </tr>\n",
              "    <tr>\n",
              "      <th>4</th>\n",
              "      <td>431.959991</td>\n",
              "    </tr>\n",
              "    <tr>\n",
              "      <th>5</th>\n",
              "      <td>429.105011</td>\n",
              "    </tr>\n",
              "    <tr>\n",
              "      <th>6</th>\n",
              "      <td>458.048004</td>\n",
              "    </tr>\n",
              "    <tr>\n",
              "      <th>7</th>\n",
              "      <td>453.230011</td>\n",
              "    </tr>\n",
              "    <tr>\n",
              "      <th>8</th>\n",
              "      <td>447.610992</td>\n",
              "    </tr>\n",
              "    <tr>\n",
              "      <th>9</th>\n",
              "      <td>447.990997</td>\n",
              "    </tr>\n",
              "  </tbody>\n",
              "</table>\n",
              "</div>"
            ],
            "text/plain": [
              "        Close\n",
              "0  434.334015\n",
              "1  433.437988\n",
              "2  430.010986\n",
              "3  433.091003\n",
              "4  431.959991\n",
              "5  429.105011\n",
              "6  458.048004\n",
              "7  453.230011\n",
              "8  447.610992\n",
              "9  447.990997"
            ]
          },
          "metadata": {
            "tags": []
          },
          "execution_count": 25
        }
      ]
    },
    {
      "cell_type": "code",
      "metadata": {
        "id": "N7up-xMcs-vB"
      },
      "source": [
        "bitcoin.columns=[\"Price\"]"
      ],
      "execution_count": 26,
      "outputs": []
    },
    {
      "cell_type": "code",
      "metadata": {
        "colab": {
          "base_uri": "https://localhost:8080/",
          "height": 191
        },
        "id": "C3O2J6nMtHBT",
        "outputId": "7dfc4a46-75db-4070-ac3e-5b3614f5f9f0"
      },
      "source": [
        "bitcoin.head()"
      ],
      "execution_count": 27,
      "outputs": [
        {
          "output_type": "execute_result",
          "data": {
            "text/html": [
              "<div>\n",
              "<style scoped>\n",
              "    .dataframe tbody tr th:only-of-type {\n",
              "        vertical-align: middle;\n",
              "    }\n",
              "\n",
              "    .dataframe tbody tr th {\n",
              "        vertical-align: top;\n",
              "    }\n",
              "\n",
              "    .dataframe thead th {\n",
              "        text-align: right;\n",
              "    }\n",
              "</style>\n",
              "<table border=\"1\" class=\"dataframe\">\n",
              "  <thead>\n",
              "    <tr style=\"text-align: right;\">\n",
              "      <th></th>\n",
              "      <th>Price</th>\n",
              "    </tr>\n",
              "  </thead>\n",
              "  <tbody>\n",
              "    <tr>\n",
              "      <th>0</th>\n",
              "      <td>434.334015</td>\n",
              "    </tr>\n",
              "    <tr>\n",
              "      <th>1</th>\n",
              "      <td>433.437988</td>\n",
              "    </tr>\n",
              "    <tr>\n",
              "      <th>2</th>\n",
              "      <td>430.010986</td>\n",
              "    </tr>\n",
              "    <tr>\n",
              "      <th>3</th>\n",
              "      <td>433.091003</td>\n",
              "    </tr>\n",
              "    <tr>\n",
              "      <th>4</th>\n",
              "      <td>431.959991</td>\n",
              "    </tr>\n",
              "  </tbody>\n",
              "</table>\n",
              "</div>"
            ],
            "text/plain": [
              "        Price\n",
              "0  434.334015\n",
              "1  433.437988\n",
              "2  430.010986\n",
              "3  433.091003\n",
              "4  431.959991"
            ]
          },
          "metadata": {
            "tags": []
          },
          "execution_count": 27
        }
      ]
    },
    {
      "cell_type": "code",
      "metadata": {
        "id": "TpTB-f1ltO93"
      },
      "source": [
        "#Creating a variable for predicting \"n\" days out into the future\n",
        "prediction_days = 30\n",
        "\n",
        "#create another column shifted \"n\" units up\n",
        "bitcoin[\"prediction\"] = bitcoin[[\"Price\"]].shift(-prediction_days)"
      ],
      "execution_count": 28,
      "outputs": []
    },
    {
      "cell_type": "code",
      "metadata": {
        "colab": {
          "base_uri": "https://localhost:8080/",
          "height": 191
        },
        "id": "DFCAxDHxuQWh",
        "outputId": "3704e921-1eb4-43a3-f2af-f41e1db016ae"
      },
      "source": [
        "bitcoin.head()"
      ],
      "execution_count": 29,
      "outputs": [
        {
          "output_type": "execute_result",
          "data": {
            "text/html": [
              "<div>\n",
              "<style scoped>\n",
              "    .dataframe tbody tr th:only-of-type {\n",
              "        vertical-align: middle;\n",
              "    }\n",
              "\n",
              "    .dataframe tbody tr th {\n",
              "        vertical-align: top;\n",
              "    }\n",
              "\n",
              "    .dataframe thead th {\n",
              "        text-align: right;\n",
              "    }\n",
              "</style>\n",
              "<table border=\"1\" class=\"dataframe\">\n",
              "  <thead>\n",
              "    <tr style=\"text-align: right;\">\n",
              "      <th></th>\n",
              "      <th>Price</th>\n",
              "      <th>prediction</th>\n",
              "    </tr>\n",
              "  </thead>\n",
              "  <tbody>\n",
              "    <tr>\n",
              "      <th>0</th>\n",
              "      <td>434.334015</td>\n",
              "      <td>368.766998</td>\n",
              "    </tr>\n",
              "    <tr>\n",
              "      <th>1</th>\n",
              "      <td>433.437988</td>\n",
              "      <td>373.056000</td>\n",
              "    </tr>\n",
              "    <tr>\n",
              "      <th>2</th>\n",
              "      <td>430.010986</td>\n",
              "      <td>374.447998</td>\n",
              "    </tr>\n",
              "    <tr>\n",
              "      <th>3</th>\n",
              "      <td>433.091003</td>\n",
              "      <td>369.949005</td>\n",
              "    </tr>\n",
              "    <tr>\n",
              "      <th>4</th>\n",
              "      <td>431.959991</td>\n",
              "      <td>389.593994</td>\n",
              "    </tr>\n",
              "  </tbody>\n",
              "</table>\n",
              "</div>"
            ],
            "text/plain": [
              "        Price  prediction\n",
              "0  434.334015  368.766998\n",
              "1  433.437988  373.056000\n",
              "2  430.010986  374.447998\n",
              "3  433.091003  369.949005\n",
              "4  431.959991  389.593994"
            ]
          },
          "metadata": {
            "tags": []
          },
          "execution_count": 29
        }
      ]
    },
    {
      "cell_type": "code",
      "metadata": {
        "colab": {
          "base_uri": "https://localhost:8080/",
          "height": 191
        },
        "id": "AsNWilniumsX",
        "outputId": "c27badb4-1f00-4f76-a6dc-534f512fd4fe"
      },
      "source": [
        "#show the last seven rows\n",
        "bitcoin.tail()"
      ],
      "execution_count": 30,
      "outputs": [
        {
          "output_type": "execute_result",
          "data": {
            "text/html": [
              "<div>\n",
              "<style scoped>\n",
              "    .dataframe tbody tr th:only-of-type {\n",
              "        vertical-align: middle;\n",
              "    }\n",
              "\n",
              "    .dataframe tbody tr th {\n",
              "        vertical-align: top;\n",
              "    }\n",
              "\n",
              "    .dataframe thead th {\n",
              "        text-align: right;\n",
              "    }\n",
              "</style>\n",
              "<table border=\"1\" class=\"dataframe\">\n",
              "  <thead>\n",
              "    <tr style=\"text-align: right;\">\n",
              "      <th></th>\n",
              "      <th>Price</th>\n",
              "      <th>prediction</th>\n",
              "    </tr>\n",
              "  </thead>\n",
              "  <tbody>\n",
              "    <tr>\n",
              "      <th>1792</th>\n",
              "      <td>17108.402344</td>\n",
              "      <td>NaN</td>\n",
              "    </tr>\n",
              "    <tr>\n",
              "      <th>1793</th>\n",
              "      <td>17717.414063</td>\n",
              "      <td>NaN</td>\n",
              "    </tr>\n",
              "    <tr>\n",
              "      <th>1794</th>\n",
              "      <td>18177.484375</td>\n",
              "      <td>NaN</td>\n",
              "    </tr>\n",
              "    <tr>\n",
              "      <th>1795</th>\n",
              "      <td>19625.835938</td>\n",
              "      <td>NaN</td>\n",
              "    </tr>\n",
              "    <tr>\n",
              "      <th>1796</th>\n",
              "      <td>19371.498047</td>\n",
              "      <td>NaN</td>\n",
              "    </tr>\n",
              "  </tbody>\n",
              "</table>\n",
              "</div>"
            ],
            "text/plain": [
              "             Price  prediction\n",
              "1792  17108.402344         NaN\n",
              "1793  17717.414063         NaN\n",
              "1794  18177.484375         NaN\n",
              "1795  19625.835938         NaN\n",
              "1796  19371.498047         NaN"
            ]
          },
          "metadata": {
            "tags": []
          },
          "execution_count": 30
        }
      ]
    },
    {
      "cell_type": "code",
      "metadata": {
        "id": "HgTz79F-u_Q7"
      },
      "source": [
        "#Creating independent data set\n",
        "#covert the dataframe to a numpy array and drop the prediction column\n",
        "\n",
        "x= np.array(bitcoin.drop([\"prediction\"], 1))\n",
        "\n",
        "#remove the last \"n\" rows where \"n\" is the prediction days\n",
        "x=x[:len(bitcoin)-prediction_days]"
      ],
      "execution_count": 31,
      "outputs": []
    },
    {
      "cell_type": "code",
      "metadata": {
        "colab": {
          "base_uri": "https://localhost:8080/"
        },
        "id": "zyViuF7iv_hK",
        "outputId": "a11ac093-ebc0-467d-f6b4-3d8a1b252c76"
      },
      "source": [
        "print(x)"
      ],
      "execution_count": 32,
      "outputs": [
        {
          "output_type": "stream",
          "text": [
            "[[  434.334015]\n",
            " [  433.437988]\n",
            " [  430.010986]\n",
            " ...\n",
            " [13546.522461]\n",
            " [13780.995117]\n",
            " [13737.109375]]\n"
          ],
          "name": "stdout"
        }
      ]
    },
    {
      "cell_type": "code",
      "metadata": {
        "colab": {
          "base_uri": "https://localhost:8080/"
        },
        "id": "7O4F4faUwMlo",
        "outputId": "13a24008-a09e-494a-fd00-2af49c129b6b"
      },
      "source": [
        "#create the dependent data set\n",
        "#covert the dataframe to a numpy array\n",
        "y=np.array(bitcoin[\"prediction\"])\n",
        "#get all the values except the last n rows\n",
        "y=y[:-prediction_days]\n",
        "print(y)"
      ],
      "execution_count": 33,
      "outputs": [
        {
          "output_type": "stream",
          "text": [
            "[  368.766998   373.056      374.447998 ... 18177.484375 19625.835938\n",
            " 19371.498047]\n"
          ],
          "name": "stdout"
        }
      ]
    },
    {
      "cell_type": "code",
      "metadata": {
        "id": "NPs7DelYw9ER"
      },
      "source": [
        "#split the data into 80 % training and 20% testing\n",
        "from sklearn.model_selection import train_test_split\n",
        "x_train, x_test, y_train, y_test= train_test_split(x,y, test_size= 0.2)"
      ],
      "execution_count": 36,
      "outputs": []
    },
    {
      "cell_type": "code",
      "metadata": {
        "colab": {
          "base_uri": "https://localhost:8080/"
        },
        "id": "PKlW9R2Rxl--",
        "outputId": "8df55f9f-a7b4-401b-f4d3-f92124b016bb"
      },
      "source": [
        "#set the prediction days arrays equal to the last 30 rows from the original data set\n",
        "prediction_days_array= np.array(bitcoin.drop([\"prediction\"], 1)) [-prediction_days:]\n",
        "print(prediction_days_array)"
      ],
      "execution_count": 37,
      "outputs": [
        {
          "output_type": "stream",
          "text": [
            "[[13550.489258]\n",
            " [13950.300781]\n",
            " [14133.707031]\n",
            " [15579.848633]\n",
            " [15565.880859]\n",
            " [14833.753906]\n",
            " [15479.567383]\n",
            " [15332.31543 ]\n",
            " [15290.902344]\n",
            " [15701.339844]\n",
            " [16276.34375 ]\n",
            " [16317.808594]\n",
            " [16068.138672]\n",
            " [15955.587891]\n",
            " [16716.111328]\n",
            " [17645.40625 ]\n",
            " [17804.005859]\n",
            " [17817.089844]\n",
            " [18621.314453]\n",
            " [18642.232422]\n",
            " [18370.001953]\n",
            " [18364.121094]\n",
            " [19107.464844]\n",
            " [18732.121094]\n",
            " [17150.623047]\n",
            " [17108.402344]\n",
            " [17717.414063]\n",
            " [18177.484375]\n",
            " [19625.835938]\n",
            " [19371.498047]]\n"
          ],
          "name": "stdout"
        }
      ]
    },
    {
      "cell_type": "code",
      "metadata": {
        "colab": {
          "base_uri": "https://localhost:8080/"
        },
        "id": "dCJp9iLiyWZf",
        "outputId": "0e170ae6-2f9c-443e-b755-668695c8713b"
      },
      "source": [
        "from sklearn.svm import SVR\n",
        "#create and train the support Vector Machine (regression) using radial basis function\n",
        "svr_rbf = SVR(kernel= \"rbf\", C=1e3, gamma= 0.00001)\n",
        "svr_rbf.fit(x_train, y_train)"
      ],
      "execution_count": 38,
      "outputs": [
        {
          "output_type": "execute_result",
          "data": {
            "text/plain": [
              "SVR(C=1000.0, cache_size=200, coef0=0.0, degree=3, epsilon=0.1, gamma=1e-05,\n",
              "    kernel='rbf', max_iter=-1, shrinking=True, tol=0.001, verbose=False)"
            ]
          },
          "metadata": {
            "tags": []
          },
          "execution_count": 38
        }
      ]
    },
    {
      "cell_type": "code",
      "metadata": {
        "colab": {
          "base_uri": "https://localhost:8080/"
        },
        "id": "sRn3ya6bznN5",
        "outputId": "9d9996b9-26cf-447f-fcef-8690753617f7"
      },
      "source": [
        "#Test Model Accuracy\n",
        "svr_rbf_confidence = svr_rbf.score(x_test, y_test)\n",
        "print(\"svr_rbf accuracy:\", svr_rbf_confidence)"
      ],
      "execution_count": 39,
      "outputs": [
        {
          "output_type": "stream",
          "text": [
            "svr_rbf accuracy: 0.7717617777456933\n"
          ],
          "name": "stdout"
        }
      ]
    },
    {
      "cell_type": "code",
      "metadata": {
        "colab": {
          "base_uri": "https://localhost:8080/"
        },
        "id": "2bmf5Q040cDN",
        "outputId": "5ce8437f-cf03-4834-f9e1-cfa8cc34370a"
      },
      "source": [
        "#print the predicted values\n",
        "svm_prediction = svr_rbf.predict(x_test)\n",
        "print(svm_prediction)\n",
        "\n",
        "\n"
      ],
      "execution_count": 42,
      "outputs": [
        {
          "output_type": "stream",
          "text": [
            "[ 9094.303207    9183.33767786  9401.20372211  7867.77823365\n",
            "  6061.46066913  4388.29118813  9063.6740386   9079.0554319\n",
            "  9131.9198858   8808.19938465  8980.80729255  1305.20931767\n",
            "  9563.54167565  8829.40397478 10535.54166467   639.85812002\n",
            "  6096.00192825  9453.6676722   4946.6693022  10925.36655338\n",
            "  8836.16240819   453.93284023  7380.14220495  7258.80706283\n",
            "  9126.67888904  9174.44240218  2715.85134581   426.21140344\n",
            "  9112.5971159   3867.15310264   785.25346091   423.40014192\n",
            "  9933.2749169  11206.74275117   604.34534729  8958.13469592\n",
            "  8679.6218994   8666.09912993  9177.35986918  9091.17257929\n",
            "  1192.85190936  9841.55138062  3920.75689088  3916.46624063\n",
            "   426.75420508 10338.36856451  6050.52836916   424.17228475\n",
            "  1507.2115672   7467.71273345  7896.425779     720.48484393\n",
            "  4128.55647382  8955.47690115   425.45877155 10743.5436739\n",
            " 11215.47240859  7268.63951556  1168.74165798  8468.26746746\n",
            " 11641.95897623  4655.62200916  7430.92793717  6455.87647962\n",
            "  9146.88440013  1583.4005579  10076.07811598 10564.73680108\n",
            "  9249.63980272  3924.63802227  4113.79334837  9139.38968752\n",
            "  6133.34222198 10911.14528649   630.00603229  8877.11452453\n",
            "  1551.10455539  7360.64100662  3071.59279704  7332.18327521\n",
            "  9253.40964831  9118.658799    8296.30800546   422.92447135\n",
            "  9015.38302933  4993.97376363  8255.53022117  6063.82605732\n",
            "   427.29998496  2717.12103525  9055.90462229  6657.18299622\n",
            "  8433.99737194 11034.47169636  7976.01484587  6800.94747557\n",
            "  7182.29826695   655.03418014  1175.84533824 10595.74214026\n",
            "   439.75155732  1735.52406734  9058.45835132   431.21335752\n",
            "  8495.24905417   452.18541022   611.97422301  6263.41690919\n",
            "   450.55299155  6653.51769331  4922.06698283  7805.88595969\n",
            " 10257.11817215  7282.23861292  9486.26612477   642.72836148\n",
            "  2822.53001487  4054.87652087 10953.31382773   839.23175625\n",
            "  9024.84450567   445.38357208  7723.22845157  2796.9581742\n",
            "  9385.96924994  1558.05146742 10481.56886788  6428.0010643\n",
            "  6123.54682261  8836.30277824  7516.36451495  8875.10087532\n",
            "  7326.11944182  8960.90737456  6987.36619937   443.32991128\n",
            "  8833.67131197   608.18704178  8814.1842207  10549.28196355\n",
            "   708.53031287  8933.98985609  8392.81374256  1289.80650222\n",
            "  8227.56051758 11171.75500864  9087.04691282  8320.18032752\n",
            "   856.76592914  9190.19211159  3933.84683591  1278.64066077\n",
            "  9906.50704454 10687.97625751   799.24405127  9312.45399517\n",
            "  8424.89739337   606.73719054  1217.60854519  8795.29231173\n",
            "   599.89688852   669.92507189  9370.28816836 10633.68002098\n",
            "  9121.16777473 10532.64016588  9128.65173533  7836.50996069\n",
            "  8694.8599682   7292.37663801  6206.04832065   648.95133572\n",
            "  9021.92389967 11019.97427394 10577.64694145  4258.97751442\n",
            "  7808.89757586  4873.62121335  6351.41480779   686.22164676\n",
            "   792.31542257  9730.13874994  4235.09767289  9851.18839005\n",
            "   684.29747148  4216.62987249 10276.76474376  2779.91548198\n",
            "  1639.32273296  4319.17019093  6250.73282522 11110.49295089\n",
            "   440.58063646  6522.83376766  4364.5091394   2041.064768\n",
            "   818.59250046  6529.32080959   649.28386359  8915.11211708\n",
            "  8976.55185272 11136.31545508   431.60925618  4627.55070483\n",
            "  6545.63703245  3953.01314685  8912.31466148  9033.15720843\n",
            "  8753.53272469   446.47703272   639.85080313  6210.06513837\n",
            "  4211.2280447   2703.9910441   6124.02378959  4858.52945803\n",
            "  7935.73164728  9045.71544308  9522.92246763   447.10654879\n",
            "  2774.49986889  1875.23915498  2811.13881111  4237.87483699\n",
            "  8953.65562344  4966.38935736   615.58167465  6980.0924759\n",
            "  8983.36522891 10533.11022058 10567.5974998   7715.21091394\n",
            "  6932.90699105  9429.24606746   810.81873015  9112.14179916\n",
            "  1084.22739247  7248.33916415  2824.29759931  1156.94158785\n",
            "   740.90640578  1926.86222625  4318.28114798   619.79981964\n",
            "  9465.331394     442.01967932  6298.14414335  4267.00304954\n",
            "  6589.81079569  1172.72293358  3944.88743883  9618.27675115\n",
            "  8912.63772591  1576.50144474  6300.19366695  8739.08015487\n",
            "  8318.51606297  1270.43862762  9075.37234588  3955.40233189\n",
            "  9658.00182762  4386.50257991   452.01560437  8880.07180421\n",
            "  9647.42768929 10557.72538386  6165.01333441 10540.89327035\n",
            "   451.12049141   432.02253576  7761.79049813   883.8111898\n",
            "  9185.85203062   578.10571478  6708.50170451   640.24961477\n",
            "   641.06064527  8958.73142323 10698.54832679   433.52534715\n",
            "  3901.58155924  9898.20857387  7710.08771555  4947.82002894\n",
            "   609.67798756   447.8690344   6481.6496367   7704.49467884\n",
            "  6432.98297113  4388.73825704  8598.61246767  1555.61151326\n",
            "  4210.4129356   4243.70360559  8864.21190069  7973.62376786\n",
            "  4306.49038398  4932.67335259  4666.83529581  1103.91622016\n",
            "  6307.56998797   638.02465499  7316.65011355  6695.03622545\n",
            "  9125.30333803   423.76328345  4614.52623656   446.82912657\n",
            " 10558.43896071 11115.06424601   668.14608999   606.28951363\n",
            "  1380.79629494   436.57919064   806.31774389  9213.27354408\n",
            "  9194.99726993   779.40912382  2731.86439375  7979.1275735\n",
            "  9246.45331568  9182.66903421   656.08948429  9415.91260058\n",
            "   427.081218    9351.7095828   9127.55654069  2745.98633385\n",
            "  8399.58398806  4918.48392581  3673.31193271  8294.5094824\n",
            "   671.0193258   1906.76235226  4922.12081896  7772.68931682\n",
            "   714.59424577   738.43336895  8884.49136998  8941.87385734\n",
            " 10559.15925409   423.2569807   6064.77867537 10932.2052067\n",
            "   680.34575171  9009.99312771  5160.65743169   424.14426108\n",
            "  8494.02729398  8321.00363536 10558.78646979  4891.36141166\n",
            "   426.62508133  3926.89217749]\n"
          ],
          "name": "stdout"
        }
      ]
    },
    {
      "cell_type": "code",
      "metadata": {
        "colab": {
          "base_uri": "https://localhost:8080/"
        },
        "id": "feWeeICQ1Zoj",
        "outputId": "ea121923-5587-4519-bf78-a057881a080c"
      },
      "source": [
        "#print the actual values\n",
        "print(y_test)"
      ],
      "execution_count": 43,
      "outputs": [
        {
          "output_type": "stream",
          "text": [
            "[ 9527.160156  9377.013672  5563.707031  8742.958008  6281.200195\n",
            "  4409.319824  8230.923828  9273.521484  7334.098633  7621.299805\n",
            "  6636.319824  1116.719971  9313.610352 10407.964844  6853.839844\n",
            "   647.658997  7321.040039  8393.041992  5446.910156 13654.21875\n",
            "  8108.116211   672.783997  7411.317383  7814.915039  7218.371094\n",
            "  9386.788086  2757.179932   459.602997  8784.494141  3909.15625\n",
            "   975.921021   455.096985 14360.200195 15479.567383   609.241028\n",
            "  7720.25      8367.847656  8510.379883  9439.124023 11878.37207\n",
            "  1274.98999   9477.641602  3911.484375  3903.942627   417.945007\n",
            "  8913.469727  6476.290039   445.737     1176.900024  7193.25\n",
            "  8574.501953   771.155029  3464.013428  8206.145508   421.563995\n",
            " 10231.744141  9811.925781  7569.936035  1251.01001   9205.120117\n",
            "  8621.900391  4338.709961  6482.350098  6332.629883  8723.94043\n",
            "  1723.349976  9552.860352 16068.138672  6469.79834   4032.507324\n",
            "  4069.107178 14026.599609  6285.990234 10266.415039   650.619019\n",
            "  6582.359863  1047.150024  6385.819824  4087.659912  6741.75\n",
            "  6955.27002  11681.825195 10583.134766   427.398987 11815.986328\n",
            "  3631.040039 17415.400391  4365.939941   432.152008  2671.780029\n",
            "  8145.857422  9654.799805  8929.038086 10233.900391  7418.490234\n",
            "  5795.708496  6517.310059   618.994019   919.75     11478.168945\n",
            "   421.690002  1182.680054 12156.512695   389.593994  6951.799805\n",
            "   694.468994   602.625    16408.199219   577.469971 16564.\n",
            "  5235.55957   6174.528809 11941.96875   7397.796875  7406.52002\n",
            "   637.960022  2947.709961  2571.340088 11495.349609   902.200989\n",
            "  8368.830078   572.72699  10975.599609  2506.370117  9677.113281\n",
            "  1808.910034 13737.109375  6512.709961  7780.439941  9277.967773\n",
            "  9180.962891  8251.845703 16569.400391  7096.279785  5746.807129\n",
            "   623.97699   9132.488281   604.728027 15170.099609 10848.830078\n",
            "   741.648987  8657.642578  9663.181641  1054.22998   6906.919922\n",
            "  8630.650391  8827.764648  9316.629883   998.325012  9321.78125\n",
            "  3687.365479  1120.540039  7494.169922 10745.548828   921.984009\n",
            "  8047.526855  7879.071289   683.661987  1100.22998   8706.245117\n",
            "   575.536987   656.992004  9665.533203 10363.138672  9288.018555\n",
            " 11403.700195 11358.662109  6773.879883  8815.662109  8745.894531\n",
            "  6596.540039   709.848022 15802.900391 13437.882813 11112.700195\n",
            "  6130.529785  3242.484863  5402.697266  6517.180176   573.911987\n",
            "   898.822021  9162.917969  3926.070068 10912.823242   569.947021\n",
            "  4014.182617 12965.891602  3650.620117  1839.089966  3601.013672\n",
            "  6377.779785 11323.397461   737.226013  7624.910156  4163.069824\n",
            "  2155.800049   673.106018  6359.490234   711.521973  9480.254883\n",
            "  5238.438477 10690.400391   424.230988  4035.826416 15455.400391\n",
            "  3845.19458   6734.803711  9087.303711 10256.058594   530.039978\n",
            "   641.072021  5575.549805  7407.410156  2718.26001   3614.234375\n",
            "  4022.168213  8805.77832   9525.363281  8418.990234   665.299011\n",
            "  2576.47998   2304.97998   2655.879883  4078.599121 10801.677734\n",
            "  2337.790039   608.312012  6652.22998  16624.599609 10938.271484\n",
            " 10166.400391  3252.839111  6276.120117  6606.776367   792.713989\n",
            " 17899.699219  1027.439941  7257.665039  3252.909912   919.495972\n",
            "   781.481018  2202.419922  4922.798828   677.330994  8802.459961\n",
            "   536.919983  6543.200195  3792.399902  6334.27002    921.590027\n",
            "  3954.118164  9648.717773  9360.879883   966.724976  4278.84668\n",
            " 11786.299805  9043.94043   1272.829956  6911.089844  3985.080811\n",
            "  7569.629883  5064.487793   414.859985  9324.717773  7557.819824\n",
            " 10511.813477  7567.149902 17817.089844   376.619995   369.949005\n",
            "  6580.629883   886.617981 10951.         572.302979  6486.390137\n",
            "   638.645996   678.304016  9190.854492 11354.024414   416.321991\n",
            "  4076.632568 11759.592773  5950.069824  3666.780273   610.892029\n",
            "   537.971985  8864.766602  3696.059082  7434.390137  4174.72998\n",
            "  7344.884277   972.778992  3682.840088  3998.980225 14656.200195\n",
            "  7191.158691  3943.409424  2372.560059  3742.700439  1179.969971\n",
            "  4257.419922   689.651001  6487.160156  9328.197266 11664.847656\n",
            "   449.010986  5204.958496   413.971985 10721.327148 10198.248047\n",
            "   740.97699    613.982971  1182.939941   418.088989   679.458984\n",
            "  6191.192871  9693.802734   933.197998  4376.629883  6614.180176\n",
            "  6625.560059  8041.779785   577.502991  6770.72998    454.765991\n",
            " 10530.732422  6793.624512  2809.01001   9870.094727  3963.070557\n",
            "  4579.02002   7511.588867   715.533997  1102.170044  3413.767822\n",
            "  8564.016602   566.35498    768.132019 11366.134766  9729.038086\n",
            " 10369.563477   422.744995  5554.330078  6811.470215   591.054016\n",
            "  9538.024414  6618.140137   461.425995 19140.800781 10817.155273\n",
            " 10441.276367  7459.689941   455.67099   4025.248291]\n"
          ],
          "name": "stdout"
        }
      ]
    },
    {
      "cell_type": "code",
      "metadata": {
        "colab": {
          "base_uri": "https://localhost:8080/"
        },
        "id": "Uhl5MTfv1--L",
        "outputId": "8c55b837-5ea4-45da-baac-e8b1793932c6"
      },
      "source": [
        "#print the model prediction for the next 30 days\n",
        "svm_prediction= svr_rbf.predict(prediction_days_array)\n",
        "print(svm_prediction)\n",
        "\n",
        "print()\n",
        "\n",
        "#print the actual price for the bitcoin for the last 30 days\n",
        "print(bitcoin.tail(prediction_days))"
      ],
      "execution_count": 45,
      "outputs": [
        {
          "output_type": "stream",
          "text": [
            "[11234.97601719 10425.02035723  9990.90132585  9120.05940678\n",
            "  9084.69133264  8804.60210795  8944.40406758  8891.32681709\n",
            "  8879.81467356  9554.46476588  9625.75285755  9618.43246642\n",
            " 10005.14582486 10175.21047073  9926.14722074 10036.60390698\n",
            " 10530.38479155 10520.35369809  7902.21302192  7936.32830516\n",
            "  7897.79191421  7906.53824694  9946.95068229  8164.3127507\n",
            "  8568.54099388  8698.78351299 10388.92432823  8511.47870621\n",
            "  8755.87336719  9696.37185918]\n",
            "\n",
            "             Price  prediction\n",
            "1767  13550.489258         NaN\n",
            "1768  13950.300781         NaN\n",
            "1769  14133.707031         NaN\n",
            "1770  15579.848633         NaN\n",
            "1771  15565.880859         NaN\n",
            "1772  14833.753906         NaN\n",
            "1773  15479.567383         NaN\n",
            "1774  15332.315430         NaN\n",
            "1775  15290.902344         NaN\n",
            "1776  15701.339844         NaN\n",
            "1777  16276.343750         NaN\n",
            "1778  16317.808594         NaN\n",
            "1779  16068.138672         NaN\n",
            "1780  15955.587891         NaN\n",
            "1781  16716.111328         NaN\n",
            "1782  17645.406250         NaN\n",
            "1783  17804.005859         NaN\n",
            "1784  17817.089844         NaN\n",
            "1785  18621.314453         NaN\n",
            "1786  18642.232422         NaN\n",
            "1787  18370.001953         NaN\n",
            "1788  18364.121094         NaN\n",
            "1789  19107.464844         NaN\n",
            "1790  18732.121094         NaN\n",
            "1791  17150.623047         NaN\n",
            "1792  17108.402344         NaN\n",
            "1793  17717.414063         NaN\n",
            "1794  18177.484375         NaN\n",
            "1795  19625.835938         NaN\n",
            "1796  19371.498047         NaN\n"
          ],
          "name": "stdout"
        }
      ]
    }
  ]
}